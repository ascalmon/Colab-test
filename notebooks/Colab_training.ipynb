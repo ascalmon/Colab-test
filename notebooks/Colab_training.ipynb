{
  "nbformat": 4,
  "nbformat_minor": 0,
  "metadata": {
    "colab": {
      "name": "Colab_training.ipynb",
      "provenance": [],
      "collapsed_sections": [],
      "authorship_tag": "ABX9TyMCapizJeKDvFpCOjMq38Ru",
      "include_colab_link": true
    },
    "kernelspec": {
      "name": "python3",
      "display_name": "Python 3"
    },
    "language_info": {
      "name": "python"
    }
  },
  "cells": [
    {
      "cell_type": "markdown",
      "metadata": {
        "id": "view-in-github",
        "colab_type": "text"
      },
      "source": [
        "<a href=\"https://colab.research.google.com/github/ascalmon/Colab-test/blob/main/notebooks/Colab_training.ipynb\" target=\"_parent\"><img src=\"https://colab.research.google.com/assets/colab-badge.svg\" alt=\"Open In Colab\"/></a>"
      ]
    },
    {
      "cell_type": "code",
      "metadata": {
        "id": "CGwwx8T4XtiD",
        "colab": {
          "base_uri": "https://localhost:8080/"
        },
        "outputId": "5520796f-e79c-47a6-c062-0b466fc82e9a"
      },
      "source": [
        "print('Hello Antonio from Google Colab')"
      ],
      "execution_count": 12,
      "outputs": [
        {
          "output_type": "stream",
          "text": [
            "Hello Antonio from Google Colab\n"
          ],
          "name": "stdout"
        }
      ]
    },
    {
      "cell_type": "markdown",
      "metadata": {
        "id": "BnlNYXJ0CK2S"
      },
      "source": [
        "# Mount Google Drive"
      ]
    },
    {
      "cell_type": "code",
      "metadata": {
        "colab": {
          "base_uri": "https://localhost:8080/"
        },
        "id": "udgAlQQ1kqj2",
        "outputId": "7c23f4be-008d-4e43-eebf-d89e0fc6f15f"
      },
      "source": [
        "from google.colab import drive\n",
        "\n",
        "drive.mount('/content/gdrive')"
      ],
      "execution_count": 18,
      "outputs": [
        {
          "output_type": "stream",
          "text": [
            "Mounted at /content/gdrive\n"
          ],
          "name": "stdout"
        }
      ]
    },
    {
      "cell_type": "markdown",
      "metadata": {
        "id": "maV3GTV0CD4c"
      },
      "source": [
        "# Read a file from Google Drive"
      ]
    },
    {
      "cell_type": "code",
      "metadata": {
        "id": "qj81mTVymY8I"
      },
      "source": [
        "with open('/content/gdrive/My Drive/Teste Google Colab', 'r') as f:\n",
        "  print(f.read())"
      ],
      "execution_count": null,
      "outputs": []
    },
    {
      "cell_type": "markdown",
      "metadata": {
        "id": "7ohD-iFLB8XJ"
      },
      "source": [
        "# Write in a File at Google Drive"
      ]
    },
    {
      "cell_type": "code",
      "metadata": {
        "id": "u1gC5LYi9UBD"
      },
      "source": [
        "with open('/content/gdrive/My Drive/Teste Google Colab', 'a') as f:\n",
        "  f.write('Hello from Antonio Calmon @ Google Colab Training again\\n')"
      ],
      "execution_count": 58,
      "outputs": []
    },
    {
      "cell_type": "markdown",
      "metadata": {
        "id": "hHdgpwN-B0QR"
      },
      "source": [
        "# Upload File from Local Machine"
      ]
    },
    {
      "cell_type": "code",
      "metadata": {
        "id": "TnWRTD5g-k76"
      },
      "source": [
        "from google.colab import files\n",
        "uploaded = files.upload()\n",
        "\n",
        "for filename in uploaded.keys():\n",
        "  print(uploaded[filename])"
      ],
      "execution_count": null,
      "outputs": []
    },
    {
      "cell_type": "markdown",
      "metadata": {
        "id": "5dFuvgW0BoBH"
      },
      "source": [
        "# Download File to Local Machine"
      ]
    },
    {
      "cell_type": "code",
      "metadata": {
        "colab": {
          "base_uri": "https://localhost:8080/",
          "height": 17
        },
        "id": "JYO4cFiSAELO",
        "outputId": "b206b48b-ba10-4868-c1be-8bcfa5c67b26"
      },
      "source": [
        "with open('Teste Google Colab', 'w') as f:\n",
        "  f.write('Hello again from Google Colab - Antonio S Calmon!\\n')\n",
        "files.download('Teste Google Colab')"
      ],
      "execution_count": 67,
      "outputs": [
        {
          "output_type": "display_data",
          "data": {
            "application/javascript": [
              "\n",
              "    async function download(id, filename, size) {\n",
              "      if (!google.colab.kernel.accessAllowed) {\n",
              "        return;\n",
              "      }\n",
              "      const div = document.createElement('div');\n",
              "      const label = document.createElement('label');\n",
              "      label.textContent = `Downloading \"${filename}\": `;\n",
              "      div.appendChild(label);\n",
              "      const progress = document.createElement('progress');\n",
              "      progress.max = size;\n",
              "      div.appendChild(progress);\n",
              "      document.body.appendChild(div);\n",
              "\n",
              "      const buffers = [];\n",
              "      let downloaded = 0;\n",
              "\n",
              "      const channel = await google.colab.kernel.comms.open(id);\n",
              "      // Send a message to notify the kernel that we're ready.\n",
              "      channel.send({})\n",
              "\n",
              "      for await (const message of channel.messages) {\n",
              "        // Send a message to notify the kernel that we're ready.\n",
              "        channel.send({})\n",
              "        if (message.buffers) {\n",
              "          for (const buffer of message.buffers) {\n",
              "            buffers.push(buffer);\n",
              "            downloaded += buffer.byteLength;\n",
              "            progress.value = downloaded;\n",
              "          }\n",
              "        }\n",
              "      }\n",
              "      const blob = new Blob(buffers, {type: 'application/binary'});\n",
              "      const a = document.createElement('a');\n",
              "      a.href = window.URL.createObjectURL(blob);\n",
              "      a.download = filename;\n",
              "      div.appendChild(a);\n",
              "      a.click();\n",
              "      div.remove();\n",
              "    }\n",
              "  "
            ],
            "text/plain": [
              "<IPython.core.display.Javascript object>"
            ]
          },
          "metadata": {
            "tags": []
          }
        },
        {
          "output_type": "display_data",
          "data": {
            "application/javascript": [
              "download(\"download_164fc2b8-4435-4bd7-9cb5-03cc821cd00c\", \"Teste Google Colab\", 50)"
            ],
            "text/plain": [
              "<IPython.core.display.Javascript object>"
            ]
          },
          "metadata": {
            "tags": []
          }
        }
      ]
    },
    {
      "cell_type": "markdown",
      "metadata": {
        "id": "v7oslcbIDRle"
      },
      "source": [
        "# Download a file from the internet - Wget"
      ]
    },
    {
      "cell_type": "code",
      "metadata": {
        "colab": {
          "base_uri": "https://localhost:8080/"
        },
        "id": "wy5gVRaYC5zt",
        "outputId": "3d527b53-8d37-41e1-96de-e31c466968c9"
      },
      "source": [
        "!wget 25.io/toau/audio/sample.txt"
      ],
      "execution_count": 68,
      "outputs": [
        {
          "output_type": "stream",
          "text": [
            "--2021-04-07 15:56:53--  http://25.io/toau/audio/sample.txt\n",
            "Resolving 25.io (25.io)... 207.38.94.41, 2605:de00:1:1:4a:57:0:c0\n",
            "Connecting to 25.io (25.io)|207.38.94.41|:80... connected.\n",
            "HTTP request sent, awaiting response... 200 OK\n",
            "Length: 282 [application/octet-stream]\n",
            "Saving to: ‘sample.txt’\n",
            "\n",
            "sample.txt          100%[===================>]     282  --.-KB/s    in 0s      \n",
            "\n",
            "2021-04-07 15:56:53 (29.6 MB/s) - ‘sample.txt’ saved [282/282]\n",
            "\n"
          ],
          "name": "stdout"
        }
      ]
    },
    {
      "cell_type": "code",
      "metadata": {
        "id": "fIXas1dcDf38"
      },
      "source": [
        ""
      ],
      "execution_count": null,
      "outputs": []
    }
  ]
}