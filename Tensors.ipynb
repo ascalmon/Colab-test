{
  "nbformat": 4,
  "nbformat_minor": 0,
  "metadata": {
    "colab": {
      "name": "Tensors.ipynb",
      "provenance": [],
      "collapsed_sections": [],
      "authorship_tag": "ABX9TyO5k0PFpXar7E9Tg8T41BC+",
      "include_colab_link": true
    },
    "kernelspec": {
      "name": "python3",
      "display_name": "Python 3"
    },
    "language_info": {
      "name": "python"
    }
  },
  "cells": [
    {
      "cell_type": "markdown",
      "metadata": {
        "id": "view-in-github",
        "colab_type": "text"
      },
      "source": [
        "<a href=\"https://colab.research.google.com/github/ascalmon/Colab-test/blob/main/Tensors.ipynb\" target=\"_parent\"><img src=\"https://colab.research.google.com/assets/colab-badge.svg\" alt=\"Open In Colab\"/></a>"
      ]
    },
    {
      "cell_type": "code",
      "metadata": {
        "id": "_L3TzgO3Nlmv"
      },
      "source": [
        "import torch"
      ],
      "execution_count": 5,
      "outputs": []
    },
    {
      "cell_type": "code",
      "metadata": {
        "colab": {
          "base_uri": "https://localhost:8080/"
        },
        "id": "KGKMJVVhN2wI",
        "outputId": "4d0ad3e5-7f87-4a72-e521-4adaf37cdf0e"
      },
      "source": [
        "x = torch.tensor([1,2,3])\n",
        "x"
      ],
      "execution_count": 6,
      "outputs": [
        {
          "output_type": "execute_result",
          "data": {
            "text/plain": [
              "tensor([1, 2, 3])"
            ]
          },
          "metadata": {
            "tags": []
          },
          "execution_count": 6
        }
      ]
    },
    {
      "cell_type": "code",
      "metadata": {
        "id": "L19gaF2OOVPz"
      },
      "source": [
        "y = torch.tensor([\n",
        "    [1,2,3],\n",
        "    [2,3,4],\n",
        "    [0,0,0]\n",
        "], dtype=torch.float)\n",
        "y"
      ],
      "execution_count": null,
      "outputs": []
    },
    {
      "cell_type": "code",
      "metadata": {
        "id": "UqoKYAE9PJJ9"
      },
      "source": [
        "torch.ones(1,2, dtype=torch.int)"
      ],
      "execution_count": null,
      "outputs": []
    },
    {
      "cell_type": "code",
      "metadata": {
        "id": "3R8umkc3PZsL"
      },
      "source": [
        "torch.zeros(5,3, 2, dtype=torch.float)"
      ],
      "execution_count": null,
      "outputs": []
    },
    {
      "cell_type": "code",
      "metadata": {
        "colab": {
          "base_uri": "https://localhost:8080/"
        },
        "id": "HlDF252CR6CD",
        "outputId": "36db035b-a5a2-4454-a0af-bfd54719d703"
      },
      "source": [
        "z = torch.rand(3, 4, 2, dtype=torch.float)\n",
        "z"
      ],
      "execution_count": 21,
      "outputs": [
        {
          "output_type": "execute_result",
          "data": {
            "text/plain": [
              "tensor([[[0.7261, 0.1524],\n",
              "         [0.8962, 0.6537],\n",
              "         [0.7151, 0.8430],\n",
              "         [0.9068, 0.3241]],\n",
              "\n",
              "        [[0.2096, 0.9265],\n",
              "         [0.3685, 0.7496],\n",
              "         [0.3233, 0.4419],\n",
              "         [0.3449, 0.5521]],\n",
              "\n",
              "        [[0.7207, 0.8452],\n",
              "         [0.0082, 0.3765],\n",
              "         [0.5020, 0.4324],\n",
              "         [0.4439, 0.6173]]])"
            ]
          },
          "metadata": {
            "tags": []
          },
          "execution_count": 21
        }
      ]
    },
    {
      "cell_type": "code",
      "metadata": {
        "colab": {
          "base_uri": "https://localhost:8080/"
        },
        "id": "U_XX6-SCSY4P",
        "outputId": "69ba1ca0-11a8-434e-b5ef-70a30e2a3e0d"
      },
      "source": [
        "print(y)\n",
        "y[0]\n"
      ],
      "execution_count": 19,
      "outputs": [
        {
          "output_type": "stream",
          "text": [
            "tensor([[1., 2., 3.],\n",
            "        [2., 3., 4.],\n",
            "        [0., 0., 0.]])\n"
          ],
          "name": "stdout"
        },
        {
          "output_type": "execute_result",
          "data": {
            "text/plain": [
              "tensor([1., 2., 3.])"
            ]
          },
          "metadata": {
            "tags": []
          },
          "execution_count": 19
        }
      ]
    },
    {
      "cell_type": "code",
      "metadata": {
        "colab": {
          "base_uri": "https://localhost:8080/"
        },
        "id": "iI9aCRguS4Ni",
        "outputId": "aacc6fec-7037-49c0-8cbd-a25f136a89da"
      },
      "source": [
        "y[:, 1]"
      ],
      "execution_count": 20,
      "outputs": [
        {
          "output_type": "execute_result",
          "data": {
            "text/plain": [
              "tensor([2., 3., 0.])"
            ]
          },
          "metadata": {
            "tags": []
          },
          "execution_count": 20
        }
      ]
    },
    {
      "cell_type": "code",
      "metadata": {
        "colab": {
          "base_uri": "https://localhost:8080/"
        },
        "id": "R4hvUCdCWccC",
        "outputId": "65fedb25-37c0-49ea-c16e-730c602265ad"
      },
      "source": [
        "z[2, : ,0]"
      ],
      "execution_count": 24,
      "outputs": [
        {
          "output_type": "execute_result",
          "data": {
            "text/plain": [
              "tensor([0.7207, 0.0082, 0.5020, 0.4439])"
            ]
          },
          "metadata": {
            "tags": []
          },
          "execution_count": 24
        }
      ]
    },
    {
      "cell_type": "code",
      "metadata": {
        "colab": {
          "base_uri": "https://localhost:8080/"
        },
        "id": "NtcO3EN2W2FQ",
        "outputId": "92e6ceac-c807-412f-fa57-64366c7b49fd"
      },
      "source": [
        "y[:,0]"
      ],
      "execution_count": 25,
      "outputs": [
        {
          "output_type": "execute_result",
          "data": {
            "text/plain": [
              "tensor([1., 2., 0.])"
            ]
          },
          "metadata": {
            "tags": []
          },
          "execution_count": 25
        }
      ]
    },
    {
      "cell_type": "code",
      "metadata": {
        "colab": {
          "base_uri": "https://localhost:8080/"
        },
        "id": "GaC2L516XADA",
        "outputId": "68d18e70-a8e3-4d0f-bd04-39f7e30000a5"
      },
      "source": [
        "print(y)\n",
        "y.size()"
      ],
      "execution_count": 28,
      "outputs": [
        {
          "output_type": "stream",
          "text": [
            "tensor([[1., 2., 3.],\n",
            "        [2., 3., 4.],\n",
            "        [0., 0., 0.]])\n"
          ],
          "name": "stdout"
        },
        {
          "output_type": "execute_result",
          "data": {
            "text/plain": [
              "torch.Size([3, 3])"
            ]
          },
          "metadata": {
            "tags": []
          },
          "execution_count": 28
        }
      ]
    },
    {
      "cell_type": "code",
      "metadata": {
        "colab": {
          "base_uri": "https://localhost:8080/"
        },
        "id": "3py1HvGdXS4K",
        "outputId": "e28e6b5a-14e2-4539-e3a1-1c0a13375fc6"
      },
      "source": [
        "print(y)\n",
        "y.size()[0]"
      ],
      "execution_count": 29,
      "outputs": [
        {
          "output_type": "stream",
          "text": [
            "tensor([[1., 2., 3.],\n",
            "        [2., 3., 4.],\n",
            "        [0., 0., 0.]])\n"
          ],
          "name": "stdout"
        },
        {
          "output_type": "execute_result",
          "data": {
            "text/plain": [
              "3"
            ]
          },
          "metadata": {
            "tags": []
          },
          "execution_count": 29
        }
      ]
    },
    {
      "cell_type": "code",
      "metadata": {
        "colab": {
          "base_uri": "https://localhost:8080/"
        },
        "id": "wQlUQfvBXinK",
        "outputId": "4e62229e-7cde-4940-b09e-2479b0db5025"
      },
      "source": [
        "t= torch.rand(3,3)\n",
        "print(t)\n",
        "t + y"
      ],
      "execution_count": 33,
      "outputs": [
        {
          "output_type": "stream",
          "text": [
            "tensor([[0.1547, 0.7626, 0.4469],\n",
            "        [0.2692, 0.4267, 0.8163],\n",
            "        [0.5971, 0.2007, 0.9489]])\n"
          ],
          "name": "stdout"
        },
        {
          "output_type": "execute_result",
          "data": {
            "text/plain": [
              "tensor([[1.1547, 2.7626, 3.4469],\n",
              "        [2.2692, 3.4267, 4.8163],\n",
              "        [0.5971, 0.2007, 0.9489]])"
            ]
          },
          "metadata": {
            "tags": []
          },
          "execution_count": 33
        }
      ]
    },
    {
      "cell_type": "code",
      "metadata": {
        "id": "5a1Pl05bYH08"
      },
      "source": [
        ""
      ],
      "execution_count": null,
      "outputs": []
    }
  ]
}