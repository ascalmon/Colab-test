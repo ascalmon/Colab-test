{
  "nbformat": 4,
  "nbformat_minor": 0,
  "metadata": {
    "colab": {
      "name": "Tensors.ipynb",
      "provenance": [],
      "collapsed_sections": [],
      "authorship_tag": "ABX9TyMqtWUt+Cr5hsTtEboHcJdT",
      "include_colab_link": true
    },
    "kernelspec": {
      "name": "python3",
      "display_name": "Python 3"
    },
    "language_info": {
      "name": "python"
    }
  },
  "cells": [
    {
      "cell_type": "markdown",
      "metadata": {
        "id": "view-in-github",
        "colab_type": "text"
      },
      "source": [
        "<a href=\"https://colab.research.google.com/github/ascalmon/Colab-test/blob/main/Tensors.ipynb\" target=\"_parent\"><img src=\"https://colab.research.google.com/assets/colab-badge.svg\" alt=\"Open In Colab\"/></a>"
      ]
    },
    {
      "cell_type": "code",
      "metadata": {
        "id": "_L3TzgO3Nlmv"
      },
      "source": [
        "import torch"
      ],
      "execution_count": 3,
      "outputs": []
    },
    {
      "cell_type": "code",
      "metadata": {
        "colab": {
          "base_uri": "https://localhost:8080/"
        },
        "id": "KGKMJVVhN2wI",
        "outputId": "4d0ad3e5-7f87-4a72-e521-4adaf37cdf0e"
      },
      "source": [
        "x = torch.tensor([1,2,3])\n",
        "x"
      ],
      "execution_count": 6,
      "outputs": [
        {
          "output_type": "execute_result",
          "data": {
            "text/plain": [
              "tensor([1, 2, 3])"
            ]
          },
          "metadata": {
            "tags": []
          },
          "execution_count": 6
        }
      ]
    },
    {
      "cell_type": "code",
      "metadata": {
        "colab": {
          "base_uri": "https://localhost:8080/"
        },
        "id": "L19gaF2OOVPz",
        "outputId": "b0ab4bff-d01c-43b3-8ab0-a929f76b875f"
      },
      "source": [
        "y = torch.tensor([\n",
        "    [1,2,3],\n",
        "    [2,3,4],\n",
        "    [0,0,0]\n",
        "], dtype=torch.float)\n",
        "y"
      ],
      "execution_count": 4,
      "outputs": [
        {
          "output_type": "execute_result",
          "data": {
            "text/plain": [
              "tensor([[1., 2., 3.],\n",
              "        [2., 3., 4.],\n",
              "        [0., 0., 0.]])"
            ]
          },
          "metadata": {
            "tags": []
          },
          "execution_count": 4
        }
      ]
    },
    {
      "cell_type": "code",
      "metadata": {
        "id": "UqoKYAE9PJJ9"
      },
      "source": [
        "torch.ones(1,2, dtype=torch.int)"
      ],
      "execution_count": null,
      "outputs": []
    },
    {
      "cell_type": "code",
      "metadata": {
        "id": "3R8umkc3PZsL"
      },
      "source": [
        "torch.zeros(5,3, 2, dtype=torch.float)"
      ],
      "execution_count": null,
      "outputs": []
    },
    {
      "cell_type": "code",
      "metadata": {
        "colab": {
          "base_uri": "https://localhost:8080/"
        },
        "id": "HlDF252CR6CD",
        "outputId": "5dd7bdf1-91a2-4341-8958-1350fae93470"
      },
      "source": [
        "z = torch.rand(3, 4, 2, dtype=torch.float)\n",
        "z"
      ],
      "execution_count": 5,
      "outputs": [
        {
          "output_type": "execute_result",
          "data": {
            "text/plain": [
              "tensor([[[0.5991, 0.2754],\n",
              "         [0.6241, 0.3371],\n",
              "         [0.2324, 0.2340],\n",
              "         [0.8694, 0.9218]],\n",
              "\n",
              "        [[0.2289, 0.8394],\n",
              "         [0.7797, 0.8148],\n",
              "         [0.5120, 0.3383],\n",
              "         [0.7391, 0.8664]],\n",
              "\n",
              "        [[0.8080, 0.5865],\n",
              "         [0.4940, 0.9067],\n",
              "         [0.3779, 0.5964],\n",
              "         [0.6811, 0.5144]]])"
            ]
          },
          "metadata": {
            "tags": []
          },
          "execution_count": 5
        }
      ]
    },
    {
      "cell_type": "code",
      "metadata": {
        "colab": {
          "base_uri": "https://localhost:8080/"
        },
        "id": "U_XX6-SCSY4P",
        "outputId": "69ba1ca0-11a8-434e-b5ef-70a30e2a3e0d"
      },
      "source": [
        "print(y)\n",
        "y[0]\n"
      ],
      "execution_count": 19,
      "outputs": [
        {
          "output_type": "stream",
          "text": [
            "tensor([[1., 2., 3.],\n",
            "        [2., 3., 4.],\n",
            "        [0., 0., 0.]])\n"
          ],
          "name": "stdout"
        },
        {
          "output_type": "execute_result",
          "data": {
            "text/plain": [
              "tensor([1., 2., 3.])"
            ]
          },
          "metadata": {
            "tags": []
          },
          "execution_count": 19
        }
      ]
    },
    {
      "cell_type": "code",
      "metadata": {
        "colab": {
          "base_uri": "https://localhost:8080/"
        },
        "id": "iI9aCRguS4Ni",
        "outputId": "aacc6fec-7037-49c0-8cbd-a25f136a89da"
      },
      "source": [
        "y[:, 1]"
      ],
      "execution_count": 20,
      "outputs": [
        {
          "output_type": "execute_result",
          "data": {
            "text/plain": [
              "tensor([2., 3., 0.])"
            ]
          },
          "metadata": {
            "tags": []
          },
          "execution_count": 20
        }
      ]
    },
    {
      "cell_type": "code",
      "metadata": {
        "colab": {
          "base_uri": "https://localhost:8080/"
        },
        "id": "R4hvUCdCWccC",
        "outputId": "65fedb25-37c0-49ea-c16e-730c602265ad"
      },
      "source": [
        "z[2, : ,0]"
      ],
      "execution_count": 24,
      "outputs": [
        {
          "output_type": "execute_result",
          "data": {
            "text/plain": [
              "tensor([0.7207, 0.0082, 0.5020, 0.4439])"
            ]
          },
          "metadata": {
            "tags": []
          },
          "execution_count": 24
        }
      ]
    },
    {
      "cell_type": "code",
      "metadata": {
        "colab": {
          "base_uri": "https://localhost:8080/"
        },
        "id": "NtcO3EN2W2FQ",
        "outputId": "92e6ceac-c807-412f-fa57-64366c7b49fd"
      },
      "source": [
        "y[:,0]"
      ],
      "execution_count": 25,
      "outputs": [
        {
          "output_type": "execute_result",
          "data": {
            "text/plain": [
              "tensor([1., 2., 0.])"
            ]
          },
          "metadata": {
            "tags": []
          },
          "execution_count": 25
        }
      ]
    },
    {
      "cell_type": "code",
      "metadata": {
        "colab": {
          "base_uri": "https://localhost:8080/"
        },
        "id": "GaC2L516XADA",
        "outputId": "68d18e70-a8e3-4d0f-bd04-39f7e30000a5"
      },
      "source": [
        "print(y)\n",
        "y.size()"
      ],
      "execution_count": 28,
      "outputs": [
        {
          "output_type": "stream",
          "text": [
            "tensor([[1., 2., 3.],\n",
            "        [2., 3., 4.],\n",
            "        [0., 0., 0.]])\n"
          ],
          "name": "stdout"
        },
        {
          "output_type": "execute_result",
          "data": {
            "text/plain": [
              "torch.Size([3, 3])"
            ]
          },
          "metadata": {
            "tags": []
          },
          "execution_count": 28
        }
      ]
    },
    {
      "cell_type": "code",
      "metadata": {
        "colab": {
          "base_uri": "https://localhost:8080/"
        },
        "id": "3py1HvGdXS4K",
        "outputId": "e28e6b5a-14e2-4539-e3a1-1c0a13375fc6"
      },
      "source": [
        "print(y)\n",
        "y.size()[0]"
      ],
      "execution_count": 29,
      "outputs": [
        {
          "output_type": "stream",
          "text": [
            "tensor([[1., 2., 3.],\n",
            "        [2., 3., 4.],\n",
            "        [0., 0., 0.]])\n"
          ],
          "name": "stdout"
        },
        {
          "output_type": "execute_result",
          "data": {
            "text/plain": [
              "3"
            ]
          },
          "metadata": {
            "tags": []
          },
          "execution_count": 29
        }
      ]
    },
    {
      "cell_type": "code",
      "metadata": {
        "colab": {
          "base_uri": "https://localhost:8080/"
        },
        "id": "wQlUQfvBXinK",
        "outputId": "4e62229e-7cde-4940-b09e-2479b0db5025"
      },
      "source": [
        "t= torch.rand(3,3)\n",
        "print(t)\n",
        "t + y"
      ],
      "execution_count": 33,
      "outputs": [
        {
          "output_type": "stream",
          "text": [
            "tensor([[0.1547, 0.7626, 0.4469],\n",
            "        [0.2692, 0.4267, 0.8163],\n",
            "        [0.5971, 0.2007, 0.9489]])\n"
          ],
          "name": "stdout"
        },
        {
          "output_type": "execute_result",
          "data": {
            "text/plain": [
              "tensor([[1.1547, 2.7626, 3.4469],\n",
              "        [2.2692, 3.4267, 4.8163],\n",
              "        [0.5971, 0.2007, 0.9489]])"
            ]
          },
          "metadata": {
            "tags": []
          },
          "execution_count": 33
        }
      ]
    },
    {
      "cell_type": "code",
      "metadata": {
        "colab": {
          "base_uri": "https://localhost:8080/"
        },
        "id": "5a1Pl05bYH08",
        "outputId": "f99e8ac3-97bd-4b06-db75-1634c064f11b"
      },
      "source": [
        "y.reshape(1,9)"
      ],
      "execution_count": 6,
      "outputs": [
        {
          "output_type": "execute_result",
          "data": {
            "text/plain": [
              "tensor([[1., 2., 3., 2., 3., 4., 0., 0., 0.]])"
            ]
          },
          "metadata": {
            "tags": []
          },
          "execution_count": 6
        }
      ]
    },
    {
      "cell_type": "code",
      "metadata": {
        "colab": {
          "base_uri": "https://localhost:8080/"
        },
        "id": "jUIoGyAgI7aO",
        "outputId": "6879b475-8837-4c15-8f28-b9c081fbb31f"
      },
      "source": [
        "y.reshape(-1,)"
      ],
      "execution_count": 7,
      "outputs": [
        {
          "output_type": "execute_result",
          "data": {
            "text/plain": [
              "tensor([1., 2., 3., 2., 3., 4., 0., 0., 0.])"
            ]
          },
          "metadata": {
            "tags": []
          },
          "execution_count": 7
        }
      ]
    },
    {
      "cell_type": "code",
      "metadata": {
        "colab": {
          "base_uri": "https://localhost:8080/"
        },
        "id": "0WtRv8AWJAYk",
        "outputId": "83e59e7c-4167-4819-e58e-e828e53c279e"
      },
      "source": [
        "torch.squeeze(y.reshape(1, 9))"
      ],
      "execution_count": 10,
      "outputs": [
        {
          "output_type": "execute_result",
          "data": {
            "text/plain": [
              "tensor([1., 2., 3., 2., 3., 4., 0., 0., 0.])"
            ]
          },
          "metadata": {
            "tags": []
          },
          "execution_count": 10
        }
      ]
    },
    {
      "cell_type": "code",
      "metadata": {
        "colab": {
          "base_uri": "https://localhost:8080/"
        },
        "id": "iO54-mrIJN1L",
        "outputId": "f4ac949e-62f4-401f-f33f-e4447567e1d5"
      },
      "source": [
        "y.sum()"
      ],
      "execution_count": 11,
      "outputs": [
        {
          "output_type": "execute_result",
          "data": {
            "text/plain": [
              "tensor(15.)"
            ]
          },
          "metadata": {
            "tags": []
          },
          "execution_count": 11
        }
      ]
    },
    {
      "cell_type": "code",
      "metadata": {
        "colab": {
          "base_uri": "https://localhost:8080/"
        },
        "id": "RHvadF_9JRjj",
        "outputId": "4acf2d2c-7b7e-4da6-acae-b0a70bcfb9eb"
      },
      "source": [
        "y.sum(0)"
      ],
      "execution_count": 12,
      "outputs": [
        {
          "output_type": "execute_result",
          "data": {
            "text/plain": [
              "tensor([3., 5., 7.])"
            ]
          },
          "metadata": {
            "tags": []
          },
          "execution_count": 12
        }
      ]
    },
    {
      "cell_type": "code",
      "metadata": {
        "colab": {
          "base_uri": "https://localhost:8080/"
        },
        "id": "CUYndlLbJYAv",
        "outputId": "7de8f2fc-0151-439f-8a47-3182b7119cc9"
      },
      "source": [
        "torch.max(y)"
      ],
      "execution_count": 13,
      "outputs": [
        {
          "output_type": "execute_result",
          "data": {
            "text/plain": [
              "tensor(4.)"
            ]
          },
          "metadata": {
            "tags": []
          },
          "execution_count": 13
        }
      ]
    },
    {
      "cell_type": "code",
      "metadata": {
        "colab": {
          "base_uri": "https://localhost:8080/"
        },
        "id": "WhPBWQyzJdHw",
        "outputId": "1037a47d-cc4e-4d36-eeb6-c86c24e14e47"
      },
      "source": [
        "values, indices = torch.max(y, 0)\n",
        "print(values)\n",
        "print(indices)"
      ],
      "execution_count": 17,
      "outputs": [
        {
          "output_type": "stream",
          "text": [
            "tensor([2., 3., 4.])\n",
            "tensor([1, 1, 1])\n"
          ],
          "name": "stdout"
        }
      ]
    },
    {
      "cell_type": "code",
      "metadata": {
        "colab": {
          "base_uri": "https://localhost:8080/"
        },
        "id": "Svt4eNImKDPC",
        "outputId": "396f9d00-3b63-41e3-9986-9a9508140da6"
      },
      "source": [
        "y[0, 0].item() == 1"
      ],
      "execution_count": 18,
      "outputs": [
        {
          "output_type": "execute_result",
          "data": {
            "text/plain": [
              "True"
            ]
          },
          "metadata": {
            "tags": []
          },
          "execution_count": 18
        }
      ]
    },
    {
      "cell_type": "code",
      "metadata": {
        "colab": {
          "base_uri": "https://localhost:8080/"
        },
        "id": "N4uKNNdIKXaZ",
        "outputId": "6680af7e-b809-4179-996c-b54536c04c96"
      },
      "source": [
        "y.numpy()"
      ],
      "execution_count": 19,
      "outputs": [
        {
          "output_type": "execute_result",
          "data": {
            "text/plain": [
              "array([[1., 2., 3.],\n",
              "       [2., 3., 4.],\n",
              "       [0., 0., 0.]], dtype=float32)"
            ]
          },
          "metadata": {
            "tags": []
          },
          "execution_count": 19
        }
      ]
    },
    {
      "cell_type": "code",
      "metadata": {
        "colab": {
          "base_uri": "https://localhost:8080/"
        },
        "id": "TVniQmR6KkXq",
        "outputId": "6e82f2da-f04b-47fc-923a-a7e8b79e8808"
      },
      "source": [
        "import numpy as np\n",
        "\n",
        "a = np.array([[1,2], [3,4]])\n",
        "b = torch.from_numpy(a)\n",
        "b"
      ],
      "execution_count": 23,
      "outputs": [
        {
          "output_type": "execute_result",
          "data": {
            "text/plain": [
              "tensor([[1, 2],\n",
              "        [3, 4]])"
            ]
          },
          "metadata": {
            "tags": []
          },
          "execution_count": 23
        }
      ]
    },
    {
      "cell_type": "code",
      "metadata": {
        "colab": {
          "base_uri": "https://localhost:8080/"
        },
        "id": "KKXwBk8hLQE4",
        "outputId": "79fe4fa1-cc5e-4993-894f-0b73dab86694"
      },
      "source": [
        "a[0,0] = 5\n",
        "a"
      ],
      "execution_count": 26,
      "outputs": [
        {
          "output_type": "execute_result",
          "data": {
            "text/plain": [
              "array([[5, 2],\n",
              "       [3, 4]])"
            ]
          },
          "metadata": {
            "tags": []
          },
          "execution_count": 26
        }
      ]
    },
    {
      "cell_type": "code",
      "metadata": {
        "colab": {
          "base_uri": "https://localhost:8080/"
        },
        "id": "ClB2n6itLhk_",
        "outputId": "df590e56-936c-430a-b09b-20ecbae3388f"
      },
      "source": [
        "b"
      ],
      "execution_count": 27,
      "outputs": [
        {
          "output_type": "execute_result",
          "data": {
            "text/plain": [
              "tensor([[5, 2],\n",
              "        [3, 4]])"
            ]
          },
          "metadata": {
            "tags": []
          },
          "execution_count": 27
        }
      ]
    },
    {
      "cell_type": "code",
      "metadata": {
        "id": "sfd_PO2LLnqr"
      },
      "source": [
        ""
      ],
      "execution_count": null,
      "outputs": []
    }
  ]
}